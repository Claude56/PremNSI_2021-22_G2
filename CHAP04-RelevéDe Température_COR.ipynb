{
 "cells": [
  {
   "cell_type": "code",
   "execution_count": null,
   "metadata": {},
   "outputs": [],
   "source": [
    "%%js // Exécuter cette cellule pour colorer les cellules des énoncés\n",
    "for (let cell of Jupyter.notebook.get_cells()) if (cell.metadata.tags && cell.metadata.tags.indexOf('nsi_enonce') >= 0) cell.element.css('background', '#AADDFF')"
   ]
  },
  {
   "cell_type": "markdown",
   "metadata": {
    "tags": [
     "nsi_enonce"
    ]
   },
   "source": [
    "## Correction de l'activité sur la manipulation d'un relevé de température:\n",
    "\n",
    "Il s'agit de manipuler des couples de valeurs *(température min, température max)* issus d'un relevé de température.  \n",
    "=> Les types simples *(int, float, str, bool)* ne sont pas adaptés pour ce travail.  \n",
    "=> Cependant le langage Python dispose de **types construits**, qui permettent de représenter des *collections* de valeurs :  \n",
    "- les **tuples**;  \n",
    "- les **tableaux**;  \n",
    "- les **dictionnaires**.  \n",
    "\n",
    "Pour représenter chaque paire *(température minimale, température maximale)*, par exemple `(10, 20)`, le type **tuple** est utilisé.  \n",
    "Le type **liste** ou **tableau** (noté entre crochets) permet lui de manipuler une série de **tuple** ou ici, les paires de températures d'un relevé."
   ]
  },
  {
   "cell_type": "code",
   "execution_count": 14,
   "metadata": {
    "tags": [
     "nsi_enonce"
    ]
   },
   "outputs": [],
   "source": [
    "# Une liste (tableau) de tuples représentant les min et max de température\n",
    "releve = [(10, 20), (11, 21), (8, 17), (6, 18), (7, 15), (10, 14), (12, 17)]"
   ]
  },
  {
   "cell_type": "markdown",
   "metadata": {
    "tags": [
     "nsi_enonce"
    ]
   },
   "source": [
    "### Afficher le relevé de température\n",
    "\n",
    "La bibliothèque `matplotlib` permet d'afficher le graphe des températures.  \n",
    "La fonction `plot` prend le tableau des températures en paramètres pour créer le graphe et la fonction `show` affiche le graphe.\n",
    "\n"
   ]
  },
  {
   "cell_type": "code",
   "execution_count": 15,
   "metadata": {
    "tags": [
     "nsi_enonce"
    ]
   },
   "outputs": [
    {
     "data": {
      "image/png": "[encoded data removed]",
      "text/plain": [
       "<Figure size 432x288 with 1 Axes>"
      ]
     },
     "metadata": {
      "needs_background": "light"
     },
     "output_type": "display_data"
    }
   ],
   "source": [
    "from matplotlib.pyplot import plot, show\n",
    "plot(releve)\n",
    "show()"
   ]
  },
  {
   "cell_type": "markdown",
   "metadata": {
    "tags": [
     "nsi_enonce"
    ]
   },
   "source": [
    "**Question :** Créer et afficher un relevé de températures à partir de données disponibles sur un site web tel que `https://www.infoclimat.fr` (onglet «Temps réel » puis « Tableaux », choisir une station puis cliquer « Climatologie ».\n"
   ]
  },
  {
   "cell_type": "code",
   "execution_count": 17,
   "metadata": {
    "tags": [
     "nsi_solution"
    ]
   },
   "outputs": [
    {
     "data": {
      "image/png": "[encoded data removed]",
      "text/plain": [
       "<Figure size 432x288 with 1 Axes>"
      ]
     },
     "metadata": {
      "needs_background": "light"
     },
     "output_type": "display_data"
    }
   ],
   "source": [
    "# Exemple 1: station de Boston, année 2020\n",
    "releve_Boston = [(-10, 23.3), (-11.1, 17.8), (-7.2, 22.2), (-0.5, 16.7), \n",
    "                 (1.1, 28.3), (8.3, 33.3), (15, 35), (15.6, 34.4), \n",
    "                 (6.7, 29.4), (-2.2, 25.6), (-4.4, 23.9), (-8.9, 17.2)]\n",
    "plot(releve_Boston)\n",
    "show()\n"
   ]
  },
  {
   "cell_type": "code",
   "execution_count": null,
   "metadata": {
    "tags": [
     "nsi_solution"
    ]
   },
   "outputs": [],
   "source": [
    "# Exemple 2: station de La Paz, Bolivie, du 1er au 12 octobre 2021\n",
    "releve_LaPaz = [(0.8, 18.7), (2.1,19.6), (2.0, 19.2), (0.3, 17.4), \n",
    "                 (0.8, 13), (3.6, 15.3), (5.8, 14.0), (5.2, 16.9), \n",
    "                 (2.9, 16.6), (3.6, 20.1), (1.8, 19.1), (1.8, 18.5)]\n",
    "plot(releve_LaPaz)\n",
    "show()\n"
   ]
  },
  {
   "cell_type": "markdown",
   "metadata": {
    "tags": [
     "nsi_enonce"
    ]
   },
   "source": [
    "### Calculer et afficher la température moyenne journalière:\n",
    "\n",
    "Chaque **tuple** représente le couple *Tmin* et *Tmax*:  \n",
    "\n",
    " => L'**affectation multiple** permet d'accéder aux éléments d’un tuple : "
   ]
  },
  {
   "cell_type": "code",
   "execution_count": 18,
   "metadata": {
    "tags": [
     "nsi_enonce"
    ]
   },
   "outputs": [
    {
     "name": "stdout",
     "output_type": "stream",
     "text": [
      "Tmax -> 25 \t Tmin -> 10\n"
     ]
    }
   ],
   "source": [
    "temperatures = (10, 25)     # temperatures contient un tuple\n",
    "tmin, tmax = temperatures   # tmin vaut 10 et tmax vaut 25\n",
    "print(f'Tmax -> {tmax} \\t Tmin -> {tmin}')"
   ]
  },
  {
   "cell_type": "markdown",
   "metadata": {
    "tags": [
     "nsi_enonce"
    ]
   },
   "source": [
    "**==>** Écrire une fonction `moyenne` qui prend un tuple contenant la température minimale et maximale en paramètres et retourne leur moyenne."
   ]
  },
  {
   "cell_type": "code",
   "execution_count": 20,
   "metadata": {},
   "outputs": [
    {
     "name": "stdout",
     "output_type": "stream",
     "text": [
      "15.0\n"
     ]
    }
   ],
   "source": [
    "def moyenne(t):\n",
    "    tmin, tmax = t\n",
    "    return (tmin + tmax) / 2\n",
    "\n",
    "print(moyenne(releve[0]))"
   ]
  },
  {
   "cell_type": "markdown",
   "metadata": {
    "tags": [
     "nsi_enonce"
    ]
   },
   "source": [
    "Pour accéder aux éléments d’une liste (ou tableau) `t`, on utilise la **notation indexée** `t[i]`: \n",
    "\n",
    "=> `i`, est appelé l'**indice**: c'est un entier entre 0 et le nombre d’éléments du tableau moins 1.  \n",
    "Exemple: `releve[2]` vaut `(8, 17)`.  \n",
    "\n",
    "=> Le nombre d’éléments du tableau est retourné par la fonction Python `len(t)`.\n",
    "\n",
    "Remarque: On peut utiliser la notation indexée à gauche d’une affectation pour changer le contenu : "
   ]
  },
  {
   "cell_type": "code",
   "execution_count": null,
   "metadata": {
    "tags": [
     "nsi_enonce"
    ]
   },
   "outputs": [],
   "source": [
    "releve[2] = (9, 16)"
   ]
  },
  {
   "cell_type": "markdown",
   "metadata": {
    "tags": [
     "nsi_enonce"
    ]
   },
   "source": [
    "La boucle bornée `for` permet d’énumérer les éléments du tableau : "
   ]
  },
  {
   "cell_type": "code",
   "execution_count": null,
   "metadata": {
    "tags": [
     "nsi_enonce"
    ]
   },
   "outputs": [],
   "source": [
    "for i in range(len(releve)):\n",
    "    tmin, tmax = releve[i]  # on accède au i-ème élément du tableau\n",
    "    print('Température minimale =', tmin, ' ; maximale = ', tmax)"
   ]
  },
  {
   "cell_type": "markdown",
   "metadata": {
    "tags": [
     "nsi_enonce"
    ]
   },
   "source": [
    "**==>** Compléter la fonction ci-dessous `moyennes_releve` qui prend en paramètre un tableau de tuples *(température minimale, température maximale)* et retourne un tableau des températures moyennes.  \n",
    "\n",
    "**==>** Afficher le graphe de ce nouveau tableau.  \n",
    "\n",
    "**==>** Envisager une variante...avec la méthode: `.append()`"
   ]
  },
  {
   "cell_type": "code",
   "execution_count": 21,
   "metadata": {
    "tags": [
     "nsi_solution"
    ]
   },
   "outputs": [
    {
     "name": "stdout",
     "output_type": "stream",
     "text": [
      "[15.0, 16.0, 12.5, 12.0, 11.0, 12.0, 14.5]\n"
     ]
    }
   ],
   "source": [
    "#from matplotlib.pyplot import plot, show\n",
    "\n",
    "def moyennes_releve(releve):\n",
    "    \"\"\" retourne un tableau des moyennes des températures de releve \"\"\"\n",
    "    moyennes = [0] * len(releve) # créer un tableau rempli de 0\n",
    "    for i in range(len(releve)):\n",
    "        moyennes[i] = moyenne(releve[i])\n",
    "    return moyennes\n",
    "\n",
    "#plot(moyennes_releve(releve))\n",
    "#show()\n",
    "print(moyennes_releve(releve))"
   ]
  },
  {
   "cell_type": "code",
   "execution_count": 22,
   "metadata": {
    "tags": [
     "nsi_solution"
    ]
   },
   "outputs": [
    {
     "name": "stdout",
     "output_type": "stream",
     "text": [
      "[15.0, 16.0, 12.5, 12.0, 11.0, 12.0, 14.5]\n"
     ]
    }
   ],
   "source": [
    "\"Variante:\"\n",
    "\n",
    "#from matplotlib.pyplot import plot, show\n",
    "\n",
    "def moyennes_releve(releve):\n",
    "    \"\"\" retourne un tableau des moyennes des températures de releve \"\"\"\n",
    "    moyennes = [] # liste vide\n",
    "    for i in releve:\n",
    "        moyennes.append(moyenne(i))\n",
    "    return moyennes\n",
    "\n",
    "#plot(moyennes_releve(releve))\n",
    "#show()\n",
    "print(moyennes_releve(releve))"
   ]
  },
  {
   "cell_type": "markdown",
   "metadata": {
    "tags": [
     "nsi_enonce"
    ]
   },
   "source": [
    "### Afficher les trois courbes et ajouter une légende\n",
    "\n",
    "Pour afficher la légende du graphe, on utilise la fonction `legend` qui prend en paramètre un tableau des titres de chaque courbe :\n",
    "\n"
   ]
  },
  {
   "cell_type": "code",
   "execution_count": 23,
   "metadata": {
    "tags": [
     "nsi_enonce"
    ]
   },
   "outputs": [
    {
     "data": {
      "image/png": "[encoded data removed]",
      "text/plain": [
       "<Figure size 432x288 with 1 Axes>"
      ]
     },
     "metadata": {
      "needs_background": "light"
     },
     "output_type": "display_data"
    }
   ],
   "source": [
    "from matplotlib.pyplot import legend\n",
    "plot(releve)\n",
    "legend([\"min\", \"max\"])\n",
    "show()"
   ]
  },
  {
   "cell_type": "markdown",
   "metadata": {
    "tags": [
     "nsi_enonce"
    ]
   },
   "source": [
    "**==>** Écrire un programme qui crée un nouveau tableau à partir d’un relevé et de ses moyennes, dont les éléments sont des tuples *(température minimale, température maximale, température moyenne)*.  \n",
    "\n",
    "**==>** Afficher ce tableau avec sa légende.  \n",
    "\n",
    "**==>** Envisager une variante... "
   ]
  },
  {
   "cell_type": "code",
   "execution_count": 24,
   "metadata": {
    "tags": [
     "nsi_solution"
    ]
   },
   "outputs": [
    {
     "data": {
      "image/png": "[encoded data removed]",
      "text/plain": [
       "<Figure size 432x288 with 1 Axes>"
      ]
     },
     "metadata": {
      "needs_background": "light"
     },
     "output_type": "display_data"
    }
   ],
   "source": [
    "def ajouter_moyennes(releve):\n",
    "    \"\"\" retourne un tableau des moyennes des températures de releve \"\"\"\n",
    "    avec_moyennes = [0] * len(releve) # créer un tableau rempli de 0\n",
    "    for i in range(len(releve)):\n",
    "        tmin, tmax = releve[i]\n",
    "        avec_moyennes[i] = (tmin, tmax, moyenne(releve[i]))\n",
    "    return avec_moyennes\n",
    "\n",
    "from matplotlib.pyplot import legend\n",
    "plot(ajouter_moyennes(releve))\n",
    "legend([\"min\", \"max\", \"moy\"])\n",
    "show()"
   ]
  },
  {
   "cell_type": "markdown",
   "metadata": {
    "tags": [
     "nsi_enonce"
    ]
   },
   "source": [
    "### Enregistrer les relevés de plusieurs villes\n",
    "\n",
    "Pour enregistrer les relevés de températures de plusieurs villes on utilise on autre type construit de Python qui s’appelle un **dictionnaire**. Un dictionnaire associe à des **clés**, ici les noms de villes, des **valeurs**, ici leur relevé de température. Un dictionnaire est noté entre accolades, et les clés sont séparées des valeurs par deux points : "
   ]
  },
  {
   "cell_type": "code",
   "execution_count": 25,
   "metadata": {
    "tags": [
     "nsi_enonce"
    ]
   },
   "outputs": [],
   "source": [
    "releves = {\n",
    "    \"Paris\" : [(10, 20), (11, 21), (8, 17), (6, 18), (7, 15), (10, 14), (12, 17)],\n",
    "    \"Montreal\" : [(0, 5), (-2, 4), (-5, -1), (-2, 6), (2, 4), (3, 7), (1, 10)],\n",
    "}"
   ]
  },
  {
   "cell_type": "markdown",
   "metadata": {
    "tags": [
     "nsi_enonce"
    ]
   },
   "source": [
    "Comme pour les tableaux, on utilise la notation indexée pour accéder à une valeur, mais ici c’est la clé qui sert d’index : `releves[\"Paris\"]`.\n",
    "\n",
    "On peut énumérer les clés du dictionnaire avec une boucle bornée : "
   ]
  },
  {
   "cell_type": "code",
   "execution_count": 26,
   "metadata": {
    "tags": [
     "nsi_enonce"
    ]
   },
   "outputs": [
    {
     "name": "stdout",
     "output_type": "stream",
     "text": [
      "Paris : [(10, 20), (11, 21), (8, 17), (6, 18), (7, 15), (10, 14), (12, 17)] relevés 7\n",
      "Montreal : [(0, 5), (-2, 4), (-5, -1), (-2, 6), (2, 4), (3, 7), (1, 10)] relevés 7\n"
     ]
    }
   ],
   "source": [
    "# afficher les villes du dictionnaire et leur nombre de relevés\n",
    "for v, t in releves.items():\n",
    "    print(v, \":\", t, \"relevés\", len(t))"
   ]
  },
  {
   "cell_type": "markdown",
   "metadata": {
    "tags": [
     "nsi_enonce"
    ]
   },
   "source": [
    "**==>** Écrire un programme qui affiche sur un même graphe les températures moyennes de toutes les villes d’un dictionnaire et sa légende, comme dans l’image ci-contre. Pour tracer un graphe avec les relevés de différentes villes on peut appeler plusieurs fois la fonction `plot` avant d’appeler `show()`."
   ]
  },
  {
   "cell_type": "code",
   "execution_count": 29,
   "metadata": {
    "tags": [
     "nsi_solution"
    ]
   },
   "outputs": [
    {
     "data": {
      "image/png": "[encoded data removed]",
      "text/plain": [
       "<Figure size 432x288 with 1 Axes>"
      ]
     },
     "metadata": {
      "needs_background": "light"
     },
     "output_type": "display_data"
    }
   ],
   "source": [
    "for ville in releves.keys():\n",
    "    plot(moyennes_releve(releves[ville]))\n",
    "legend(releves.keys())\n",
    "show()"
   ]
  }
 ],
 "metadata": {
  "kernelspec": {
   "display_name": "Python 3 (ipykernel)",
   "language": "python",
   "name": "python3"
  },
  "language_info": {
   "codemirror_mode": {
    "name": "ipython",
    "version": 3
   },
   "file_extension": ".py",
   "mimetype": "text/x-python",
   "name": "python",
   "nbconvert_exporter": "python",
   "pygments_lexer": "ipython3",
   "version": "3.7.3"
  }
 },
 "nbformat": 4,
 "nbformat_minor": 4
}
