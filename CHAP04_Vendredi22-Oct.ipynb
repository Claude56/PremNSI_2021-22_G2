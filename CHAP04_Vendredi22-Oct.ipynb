{
 "cells": [
  {
   "cell_type": "markdown",
   "metadata": {},
   "source": [
    "<h3 style=\"color: purple\">Vendredi 22 octobre 21:       Python et les \"Data Sciences\" </h3>\n",
    "<h2  style=\"color: SeaGreen\">  =>  Les types structurés; construits ou collections </h2>\n",
    "<h3  style=\"color: darkblue\">\n",
    "   1 => Tuple  <br>\n",
    "   2 => Tableau - liste <br>\n",
    "   3 => Dictionnaire <br>\n",
    "   4 => Chaîne </h3>"
   ]
  },
  {
   "cell_type": "markdown",
   "metadata": {},
   "source": [
    "Un **tuple** est constitué d'une collection ordonnée d'éléments. Il correspond à \n",
    "un p-uplet en mathématiques. Un tuple avec deux éléments est une paire, avec \n",
    "trois éléments un triplet, etc. Les tuples sont notés entre parenthèses en listant les \n",
    "éléments séparés par des virgules."
   ]
  },
  {
   "cell_type": "code",
   "execution_count": 1,
   "metadata": {},
   "outputs": [
    {
     "name": "stdout",
     "output_type": "stream",
     "text": [
      "(100, 200) (10, 'juillet', 2020) (7, 'pique') (10, 7)\n"
     ]
    }
   ],
   "source": [
    "position = (100, 200)\n",
    "date = (10, 'juillet', 2020)\n",
    "carte = (7, 'pique')\n",
    "fraction = (10, 7)\n",
    "\n",
    "print(position, date, carte, fraction)"
   ]
  },
  {
   "cell_type": "markdown",
   "metadata": {},
   "source": [
    "Tuples vides et singletons :"
   ]
  },
  {
   "cell_type": "code",
   "execution_count": null,
   "metadata": {},
   "outputs": [],
   "source": [
    "tuple_vide = ()\n",
    "singleton = (10,)\n",
    "pas_un_tuple = (10)\n",
    "\n",
    "print(tuple_vide, singleton, pas_un_tuple)"
   ]
  },
  {
   "cell_type": "markdown",
   "metadata": {},
   "source": [
    "L'affectation multiple :"
   ]
  },
  {
   "cell_type": "code",
   "execution_count": 2,
   "metadata": {},
   "outputs": [
    {
     "name": "stdout",
     "output_type": "stream",
     "text": [
      "100 200\n",
      "10 juillet 2020\n",
      "7 pique\n",
      "10 7\n"
     ]
    }
   ],
   "source": [
    "x, y = position          # x vaut 100 et y vaut 200\n",
    "print(x, y)\n",
    "\n",
    "jour, mois, annee = date # jour = 10, mois = 'juillet', année = 2020\n",
    "print(jour, mois, annee)\n",
    "\n",
    "valeur, couleur = carte  # valeur = 7, couleur = 'pique'\n",
    "print(valeur, couleur)\n",
    "\n",
    "p, q = fraction          # p = 10, q = 7\n",
    "print(p, q)"
   ]
  },
  {
   "cell_type": "code",
   "execution_count": 3,
   "metadata": {},
   "outputs": [
    {
     "name": "stdout",
     "output_type": "stream",
     "text": [
      "10 20\n",
      "20 10\n",
      "10 20\n"
     ]
    }
   ],
   "source": [
    "a, b = (10, 20)\n",
    "print(a, b)\n",
    "\n",
    "a, b = (b, a) # échanger deux valeurs\n",
    "print(a, b)\n",
    "\n",
    "a, b = b, a   # les parenthèses sont optionnelles\n",
    "print(a, b)"
   ]
  },
  {
   "cell_type": "markdown",
   "metadata": {},
   "source": [
    "Erreur avec l'affectation multiple :"
   ]
  },
  {
   "cell_type": "code",
   "execution_count": 4,
   "metadata": {},
   "outputs": [
    {
     "ename": "ValueError",
     "evalue": "too many values to unpack (expected 2)",
     "output_type": "error",
     "traceback": [
      "\u001b[0;31m---------------------------------------------------------------------------\u001b[0m",
      "\u001b[0;31mValueError\u001b[0m                                Traceback (most recent call last)",
      "\u001b[0;32m/tmp/ipykernel_1478/1770848184.py\u001b[0m in \u001b[0;36m<module>\u001b[0;34m\u001b[0m\n\u001b[0;32m----> 1\u001b[0;31m \u001b[0mx\u001b[0m\u001b[0;34m,\u001b[0m \u001b[0my\u001b[0m \u001b[0;34m=\u001b[0m \u001b[0;34m(\u001b[0m\u001b[0;36m1\u001b[0m\u001b[0;34m,\u001b[0m \u001b[0;36m2\u001b[0m\u001b[0;34m,\u001b[0m \u001b[0;36m3\u001b[0m\u001b[0;34m)\u001b[0m\u001b[0;34m\u001b[0m\u001b[0;34m\u001b[0m\u001b[0m\n\u001b[0m",
      "\u001b[0;31mValueError\u001b[0m: too many values to unpack (expected 2)"
     ]
    }
   ],
   "source": [
    "x, y = (1, 2, 3)"
   ]
  },
  {
   "cell_type": "markdown",
   "metadata": {},
   "source": [
    "Ignorer des éléments d'un tuple :"
   ]
  },
  {
   "cell_type": "code",
   "execution_count": 6,
   "metadata": {},
   "outputs": [
    {
     "name": "stdout",
     "output_type": "stream",
     "text": [
      "1 3\n",
      "2\n"
     ]
    }
   ],
   "source": [
    "x, _, y = (1, 2, 3)\n",
    "print(x, y)\n",
    "print(_)"
   ]
  },
  {
   "cell_type": "markdown",
   "metadata": {},
   "source": [
    "Tuple en paramètre d'une fonction :"
   ]
  },
  {
   "cell_type": "code",
   "execution_count": null,
   "metadata": {},
   "outputs": [],
   "source": [
    "\"Equerre du maçon:\"\n",
    "import math\n",
    "def norme(p):\n",
    "    \"\"\" calcule la norme du point p  \"\"\"\n",
    "    x, y = p\n",
    "    return math.sqrt(x*x + y*y)\n",
    "\n",
    "print(norme((4, 3))) # attention aux double parenthèses !"
   ]
  },
  {
   "cell_type": "markdown",
   "metadata": {},
   "source": [
    "Tuples imbriqués : "
   ]
  },
  {
   "cell_type": "code",
   "execution_count": 7,
   "metadata": {},
   "outputs": [
    {
     "name": "stdout",
     "output_type": "stream",
     "text": [
      "(10, 'decembre', 1815)\n",
      "Ada Lovelace\n",
      "10 decembre 1815\n",
      "Londres\n"
     ]
    }
   ],
   "source": [
    "personne = (\"Lovelace\", \"Ada\", (10, 'decembre', 1815), 'Londres')\n",
    "nom, prenom, date, lieu = personne  # date vaut ?\n",
    "print(date)\n",
    "# ou bien :\n",
    "nom, prenom, (jour, mois, an), lieu = personne\n",
    "\n",
    "print(prenom, nom)\n",
    "print(jour, mois, an)\n",
    "print(lieu)"
   ]
  },
  {
   "cell_type": "markdown",
   "metadata": {},
   "source": [
    "Les tuples sont immuables :"
   ]
  },
  {
   "cell_type": "code",
   "execution_count": 8,
   "metadata": {},
   "outputs": [
    {
     "name": "stdout",
     "output_type": "stream",
     "text": [
      "(10, 20)\n",
      "50\n"
     ]
    }
   ],
   "source": [
    "a = 10\n",
    "b = 20\n",
    "t = (a, b)  # t vaut (10, 20)\n",
    "a = 50      # t => (50, 20) ?\n",
    "print(t)\n",
    "print(a)"
   ]
  },
  {
   "cell_type": "markdown",
   "metadata": {},
   "source": [
    "Les tableaux\n",
    "--------------"
   ]
  },
  {
   "cell_type": "code",
   "execution_count": 9,
   "metadata": {},
   "outputs": [
    {
     "name": "stdout",
     "output_type": "stream",
     "text": [
      "le cinquième nombre premier est 11 \n",
      "\n",
      "Longueur =>  9\n",
      "indice 0 -> 2\n",
      "indice 1 -> 3\n",
      "indice 2 -> 5\n",
      "indice 3 -> 7\n",
      "indice 4 -> 11\n",
      "indice 5 -> 13\n",
      "indice 6 -> 17\n",
      "indice 7 -> 19\n",
      "indice 8 -> 23\n"
     ]
    }
   ],
   "source": [
    "premiers = [2, 3, 5, 7, 11, 13, 17, 19, 23]\n",
    "print('le cinquième nombre premier est', premiers[4], '\\n') # 1er indice = 0\n",
    "print('Longueur => ',len(premiers))\n",
    "for i in range(len(premiers)):  # i: de 0 à len(premiers)-1\n",
    "    print('indice', i, '->', premiers[i])\n",
    "tableau_vide = []"
   ]
  },
  {
   "cell_type": "markdown",
   "metadata": {},
   "source": [
    "Erreur en cas d'accès en dehors du tableau : "
   ]
  },
  {
   "cell_type": "code",
   "execution_count": 10,
   "metadata": {},
   "outputs": [
    {
     "ename": "IndexError",
     "evalue": "list index out of range",
     "output_type": "error",
     "traceback": [
      "\u001b[0;31m---------------------------------------------------------------------------\u001b[0m",
      "\u001b[0;31mIndexError\u001b[0m                                Traceback (most recent call last)",
      "\u001b[0;32m/tmp/ipykernel_1478/2749540997.py\u001b[0m in \u001b[0;36m<module>\u001b[0;34m\u001b[0m\n\u001b[0;32m----> 1\u001b[0;31m \u001b[0mpremiers\u001b[0m\u001b[0;34m[\u001b[0m\u001b[0;36m20\u001b[0m\u001b[0;34m]\u001b[0m\u001b[0;34m\u001b[0m\u001b[0;34m\u001b[0m\u001b[0m\n\u001b[0m",
      "\u001b[0;31mIndexError\u001b[0m: list index out of range"
     ]
    }
   ],
   "source": [
    "premiers[20]"
   ]
  },
  {
   "cell_type": "markdown",
   "metadata": {},
   "source": [
    "Énumération des éléments d'un tableau : "
   ]
  },
  {
   "cell_type": "code",
   "execution_count": 11,
   "metadata": {},
   "outputs": [
    {
     "name": "stdout",
     "output_type": "stream",
     "text": [
      "2 est un nombre premier\n",
      "3 est un nombre premier\n",
      "5 est un nombre premier\n",
      "7 est un nombre premier\n",
      "11 est un nombre premier\n",
      "13 est un nombre premier\n",
      "17 est un nombre premier\n",
      "19 est un nombre premier\n",
      "23 est un nombre premier\n"
     ]
    }
   ],
   "source": [
    "for n in premiers:  # n vaut les éléments successifs du tableau\n",
    "    print(n, 'est un nombre premier')"
   ]
  },
  {
   "cell_type": "markdown",
   "metadata": {},
   "source": [
    "Concaténation et répétition : "
   ]
  },
  {
   "cell_type": "code",
   "execution_count": 12,
   "metadata": {},
   "outputs": [
    {
     "name": "stdout",
     "output_type": "stream",
     "text": [
      "nombres = [2, 4, 6, 8, 10, 1, 3, 5, 7, 9]\n",
      "couleurs = ['trefle', 'pique', 'coeur', 'carreau']\n",
      "zeros = [0, 0, 0, 0, 0, 0, 0, 0, 0, 0, 0, 0, 0, 0, 0, 0, 0, 0, 0, 0, 0, 0, 0, 0, 0, 0, 0, 0, 0, 0, 0, 0, 0, 0, 0, 0, 0, 0, 0, 0, 0, 0, 0, 0, 0, 0, 0, 0, 0, 0, 0, 0, 0, 0, 0, 0, 0, 0, 0, 0, 0, 0, 0, 0, 0, 0, 0, 0, 0, 0, 0, 0, 0, 0, 0, 0, 0, 0, 0, 0, 0, 0, 0, 0, 0, 0, 0, 0, 0, 0, 0, 0, 0, 0, 0, 0, 0, 0, 0, 0]\n",
      "cycle = [1, 2, 3, 1, 2, 3, 1, 2, 3, 1, 2, 3, 1, 2, 3, 1, 2, 3, 1, 2, 3, 1, 2, 3, 1, 2, 3, 1, 2, 3]\n"
     ]
    }
   ],
   "source": [
    "pairs = [2, 4, 6, 8, 10]\n",
    "impairs = [1, 3, 5, 7, 9]\n",
    "nombres = pairs + impairs    # = [2, 4, 6, 8, 10, 1, 3, 5, 7, 9]\n",
    "print('nombres =', nombres)\n",
    "\n",
    "couleurs = ['trefle', 'pique'] + ['coeur', 'carreau']\n",
    "print('couleurs =', couleurs)\n",
    "\n",
    "zeros = [0] * 100       # tableau de 100 éléments, qui valent tous 0\n",
    "print('zeros =', zeros)\n",
    "\n",
    "cycle = [1, 2, 3] * 10  # 10 fois la séquence 1, 2, 3\n",
    "print('cycle =', cycle)"
   ]
  },
  {
   "cell_type": "markdown",
   "metadata": {},
   "source": [
    "> **Note**\n",
    ">\n",
    "> Notation indexée, énumération, concaténation et répétition de tuples :"
   ]
  },
  {
   "cell_type": "code",
   "execution_count": 13,
   "metadata": {},
   "outputs": [
    {
     "name": "stdout",
     "output_type": "stream",
     "text": [
      "Ada\n",
      "Lovelace\n",
      "Ada\n",
      "10\n",
      "decembre\n",
      "1815\n",
      "((0, 100), (100, 0), (0, 100), (100, 0), (0, 100), (100, 0), (0, 100), (100, 0), (0, 100), (100, 0), (0, 100), (100, 0), (0, 100), (100, 0), (0, 100), (100, 0), (0, 100), (100, 0), (0, 100), (100, 0))\n"
     ]
    }
   ],
   "source": [
    "date = (10, \"decembre\", 1815)\n",
    "nom = (\"Lovelace\", \"Ada\")\n",
    "prenom = nom[1]       # accès indexé\n",
    "print(prenom)\n",
    "\n",
    "personne = nom + date # concaténation\n",
    "for e in personne:    # énumération\n",
    "    print(e)\n",
    "\n",
    "points = ((0, 100), (100, 0)) * 10    # répétition\n",
    "print(points)"
   ]
  },
  {
   "cell_type": "markdown",
   "metadata": {},
   "source": [
    "Les tableaux sont muables : "
   ]
  },
  {
   "cell_type": "code",
   "execution_count": 19,
   "metadata": {},
   "outputs": [
    {
     "name": "stdout",
     "output_type": "stream",
     "text": [
      "[2, 4, 6]\n"
     ]
    }
   ],
   "source": [
    "t = [1, 2, 3]\n",
    "for i in range(len(t)):\n",
    "    t[i] = t[i] * 2     # doubler la valeur du i-éme élément\n",
    "print(t)"
   ]
  },
  {
   "cell_type": "markdown",
   "metadata": {},
   "source": [
    "Combiner tableaux et tuples :"
   ]
  },
  {
   "cell_type": "code",
   "execution_count": 20,
   "metadata": {},
   "outputs": [
    {
     "name": "stdout",
     "output_type": "stream",
     "text": [
      "cartes = [('as', 'pique'), (10, 'trefle'), ('valet', 'trefle'), (10, 'coeur'), (5, 'pique')]\n",
      "joueur = ('Joe', [('as', 'pique'), (10, 'trefle'), ('valet', 'trefle'), (10, 'coeur'), (5, 'pique')], 120)\n"
     ]
    }
   ],
   "source": [
    "# tableau de tuples\n",
    "cartes = [(\"as\", \"pique\"), (10, \"trefle\"), (\"valet\", \"trefle\"), \n",
    "          (10, \"coeur\"), (5, \"pique\")]\n",
    "print('cartes =', cartes)\n",
    "\n",
    "# tuple avec le tableau `cartes` comme second élément\n",
    "joueur = (\"Joe\", cartes, 120)\n",
    "print('joueur =', joueur)"
   ]
  },
  {
   "cell_type": "markdown",
   "metadata": {},
   "source": [
    "### Remarque : les listes"
   ]
  },
  {
   "cell_type": "code",
   "execution_count": 21,
   "metadata": {},
   "outputs": [
    {
     "name": "stdout",
     "output_type": "stream",
     "text": [
      "premiers = [2, 3, 5, 7, 11, 13, 17, 19, 23, 29]\n",
      "mots = ['beau', 'et', 'chaud']\n",
      "p = (100, 100)\n",
      "points = [(0, 0), (100, 0), (0, 100), (0, 0)]\n",
      "[]\n"
     ]
    }
   ],
   "source": [
    "premiers = [2, 3, 5, 7, 11, 13, 17, 19, 23]\n",
    "premiers.append(29)    # ajoute le nombre 29 à 'premiers' => mais où ?\n",
    "print('premiers =', premiers)\n",
    "\n",
    "mots = ['beau', 'chaud']\n",
    "mots.insert(1, \"et\")   # insère \"et\" en ?\n",
    "print('mots =', mots)\n",
    "\n",
    "points = [(0, 0), (100, 0), (100, 100), (0, 100), (0, 0)]\n",
    "p = points.pop(2) # retire l'élément à l'indice 2 et retourne sa valeur\n",
    "print('p =', p)\n",
    "print('points =', points)\n",
    "points.clear()    # retire tous les éléments de la liste\n",
    "print(points)"
   ]
  },
  {
   "cell_type": "markdown",
   "metadata": {},
   "source": [
    " Les chaînes de caractères\n",
    "---------------------------"
   ]
  },
  {
   "cell_type": "code",
   "execution_count": 22,
   "metadata": {},
   "outputs": [
    {
     "name": "stdout",
     "output_type": "stream",
     "text": [
      "['Il', 'fait', 'beau']\n",
      "Il fait beau\n",
      "['Il', 'fera', 'beau']\n",
      "Il fera beau\n"
     ]
    }
   ],
   "source": [
    "phrase = \"Il fait beau\"\n",
    "mots = phrase.split(' ')    # ?\n",
    "print(mots)\n",
    "print(phrase)\n",
    "\n",
    "mots[1] = 'fera'            # ?\n",
    "print(mots)\n",
    "\n",
    "phrase = ' '.join(mots)     # ?\n",
    "print(phrase)"
   ]
  },
  {
   "cell_type": "code",
   "execution_count": 23,
   "metadata": {},
   "outputs": [
    {
     "name": "stdout",
     "output_type": "stream",
     "text": [
      "12\n",
      "I\n",
      "l\n",
      " \n",
      "f\n",
      "e\n",
      "r\n",
      "a\n",
      " \n",
      "b\n",
      "e\n",
      "a\n",
      "u\n"
     ]
    }
   ],
   "source": [
    "print(len(phrase))\n",
    "for car in phrase:\n",
    "    print(car)"
   ]
  },
  {
   "cell_type": "markdown",
   "metadata": {},
   "source": [
    "Les dictionnaires\n",
    "-------------------"
   ]
  },
  {
   "cell_type": "code",
   "execution_count": 2,
   "metadata": {},
   "outputs": [],
   "source": [
    "# Un dictionnaire au sens usuel du terme\n",
    "langages = {\n",
    "    \"Python\": \"Langage très populaire au début du 21e siècle\",\n",
    "    \"Javascript\": \"Langage popularisé par l'avènement du Web\",\n",
    "}\n",
    "# Ici les clés sont des noms et les valeurs des tableaux de coordonnées\n",
    "dessins = {\n",
    "    \"maison\" : [(0, 80), (40, 120), (80, 80), (80, 0), (0, 0), (0, 80)],\n",
    "    \"voiture\" : [(0, 0), (2, 9), (20, 11), ...],\n",
    " }\n",
    "# Ici les clés sont des tuples (nom, prénom) et les valeurs sont\n",
    "# des tuples (date et lieu de naissance)\n",
    "personnes = {\n",
    "    (\"Lovelace\", \"Ada\"): (10, 'decembre', 1815, 'Londres'),\n",
    "    (\"von Neumann\", \"John\"): (28, 'decembre', 1903, 'Budapest'),\n",
    "    (\"Turing\", \"Alan\"): (23, 'juin', 1912, 'Londres'),\n",
    "}\n",
    "# Dictionnaire vide\n",
    "dico_vide = {}"
   ]
  },
  {
   "cell_type": "markdown",
   "metadata": {},
   "source": [
    "Accès à un dictionnaire : "
   ]
  },
  {
   "cell_type": "code",
   "execution_count": 4,
   "metadata": {},
   "outputs": [
    {
     "name": "stdout",
     "output_type": "stream",
     "text": [
      "Langage très populaire au début du 21e siècle\n",
      "[(0, 0), (2, 9), (20, 11), Ellipsis]\n",
      "(10, 'decembre', 1815, 'Londres')\n"
     ]
    }
   ],
   "source": [
    "print(langages[\"Python\"])\n",
    "print(dessins[\"voiture\"])\n",
    "print(personnes[\"Lovelace\", \"Ada\"])"
   ]
  },
  {
   "cell_type": "markdown",
   "metadata": {},
   "source": [
    "Erreur si entrée inexistante : "
   ]
  },
  {
   "cell_type": "code",
   "execution_count": null,
   "metadata": {},
   "outputs": [],
   "source": [
    "langages[\"Ada\"]"
   ]
  },
  {
   "cell_type": "markdown",
   "metadata": {},
   "source": [
    "Opérateur `in` : "
   ]
  },
  {
   "cell_type": "code",
   "execution_count": null,
   "metadata": {},
   "outputs": [],
   "source": [
    "if \"maison\" in dessins:\n",
    "    print(dessins[\"maison\"])\n",
    "if \"Python\" not in langages:\n",
    "    print(\"Il manque Python !\")"
   ]
  },
  {
   "cell_type": "markdown",
   "metadata": {},
   "source": [
    "Énumération : "
   ]
  },
  {
   "cell_type": "code",
   "execution_count": 5,
   "metadata": {},
   "outputs": [
    {
     "name": "stdout",
     "output_type": "stream",
     "text": [
      "Python : Langage très populaire au début du 21e siècle\n",
      "Javascript : Langage popularisé par l'avènement du Web\n"
     ]
    }
   ],
   "source": [
    "for l in langages:      # l vaut successivement les clés du dictionnaire\n",
    "    print(l, ':', langages[l])"
   ]
  },
  {
   "cell_type": "markdown",
   "metadata": {},
   "source": [
    "Les dictionnaires sont muables : "
   ]
  },
  {
   "cell_type": "code",
   "execution_count": null,
   "metadata": {},
   "outputs": [],
   "source": [
    "# ajout d'une entrée\n",
    "langages[\"Ada\"] = \"Langage nommé en hommage à Ada Lovelace\"\n",
    "# modification d'une entrée existante\n",
    "langages[\"Python\"] = \"Langage populaire pour l'enseignement\"\n",
    "# retrait d'une entrée. `del` est une instruction : pas de parenthèses\n",
    "del langages[\"Javascript\"]\n",
    "print(langages)"
   ]
  },
  {
   "cell_type": "markdown",
   "metadata": {},
   "source": [
    "Méthodes pour les dictionnaires : "
   ]
  },
  {
   "cell_type": "code",
   "execution_count": 26,
   "metadata": {},
   "outputs": [
    {
     "name": "stdout",
     "output_type": "stream",
     "text": [
      "cles =  dict_keys(['a', 'b', 'c'])\n",
      "valeurs =  dict_values([10, 20, 30])\n",
      "items =  dict_items([('a', 10), ('b', 20), ('c', 30)])\n",
      "a: 10\n",
      "b: 20\n",
      "c: 30\n"
     ]
    }
   ],
   "source": [
    "dico = {\"a\" : 10, \"b\" : 20, \"c\" : 30}\n",
    "cles = dico.keys()      # retourne la liste [\"a\", \"b\", \"c\"]\n",
    "valeurs = dico.values() # retourne la liste [10, 20, 30]\n",
    "items = dico.items()    # retourne la liste de tuples [(\"a\", 10), ...]\n",
    "print('cles = ', cles)\n",
    "print('valeurs = ', valeurs)\n",
    "print('items = ', items)\n",
    "\n",
    "# ces listes peuvent être énumérées avec `for ... in:`\n",
    "# Exemple : affichage des éléments d'un dictionnaire :\n",
    "for cle, valeur in dico.items():\n",
    "    print(f'{cle}: {valeur}')"
   ]
  },
  {
   "cell_type": "markdown",
   "metadata": {},
   "source": [
    "Valeurs et références\n",
    "---------------------- \n",
    "\n",
    "Alias :"
   ]
  },
  {
   "cell_type": "code",
   "execution_count": null,
   "metadata": {},
   "outputs": [],
   "source": [
    "a = [\"x\", \"y\", \"z\"]\n",
    "b = a\n",
    "a[1] = \"w\"\n",
    "print(b) # ['x', 'w', 'z']"
   ]
  },
  {
   "cell_type": "markdown",
   "metadata": {},
   "source": [
    "Copie pour éviter l'alias :"
   ]
  },
  {
   "cell_type": "code",
   "execution_count": null,
   "metadata": {},
   "outputs": [],
   "source": [
    "a = [\"x\", \"y\", \"z\"]\n",
    "b = a.copy()        # copier le tableau a\n",
    "a[1] = \"w\"\n",
    "print(b) # ['x', 'y', 'z']"
   ]
  },
  {
   "cell_type": "markdown",
   "metadata": {},
   "source": [
    "Alias lors du passage de paramètre :"
   ]
  },
  {
   "cell_type": "code",
   "execution_count": null,
   "metadata": {},
   "outputs": [],
   "source": [
    "# passage d'un tableau en paramètre\n",
    "def tdouble(t):\n",
    "    \"\"\" retourne un tableau dont les éléments sont le double de t \"\"\"\n",
    "    for i in range(len(t)):\n",
    "        t[i] = t[i] * 2\n",
    "    return t\n",
    "\n",
    "impairs = [1, 3, 5, 7, 9]\n",
    "doubles = tdouble(impairs)\n",
    "print(doubles)  # [2, 6, 10, 14, 18]\n",
    "print(impairs)  # [2, 6, 10, 14, 18]\n",
    "# doubles et impairs sont le MEME tableau"
   ]
  },
  {
   "cell_type": "markdown",
   "metadata": {},
   "source": [
    "Copie du tableau pour éviter l'aliassage :"
   ]
  },
  {
   "cell_type": "code",
   "execution_count": null,
   "metadata": {},
   "outputs": [],
   "source": [
    "# passage d'un tableau en paramètre\n",
    "def tdouble(t):\n",
    "    \"\"\" retourne un tableau dont les éléments sont le double de t \"\"\"\n",
    "    t = t.copy()    # copier le tableau pour ne pas modifier l'original\n",
    "    for i in range(len(t)):\n",
    "        t[i] = t[i] * 2\n",
    "    return t\n",
    "\n",
    "impairs = [1, 3, 5, 7, 9]\n",
    "doubles = tdouble(impairs)\n",
    "print(doubles)  # [2, 6, 10, 14, 18]\n",
    "print(impairs)  # [1, 3, 5, 7, 9]\n",
    "# doubles et impairs sont différents"
   ]
  },
  {
   "cell_type": "markdown",
   "metadata": {},
   "source": [
    "### Egalité de valeurs ou de références : l’opérateur `is`"
   ]
  },
  {
   "cell_type": "code",
   "execution_count": null,
   "metadata": {},
   "outputs": [],
   "source": [
    "a = [1,2]\n",
    "print(a == [1,2], a is [1,2]) # True, False\n",
    "\n",
    "b = a\n",
    "print(a == b, a is b) # True, True\n",
    "\n",
    "b = a.copy()\n",
    "print(a == b, a is b) # True, False"
   ]
  },
  {
   "cell_type": "markdown",
   "metadata": {},
   "source": [
    "#### Conclusion: \n",
    "- **==** teste l'égalité des valeurs\n",
    "- **is** teste l'égalité de référence"
   ]
  }
 ],
 "metadata": {
  "kernelspec": {
   "display_name": "Python 3 (ipykernel)",
   "language": "python",
   "name": "python3"
  },
  "language_info": {
   "codemirror_mode": {
    "name": "ipython",
    "version": 3
   },
   "file_extension": ".py",
   "mimetype": "text/x-python",
   "name": "python",
   "nbconvert_exporter": "python",
   "pygments_lexer": "ipython3",
   "version": "3.7.3"
  }
 },
 "nbformat": 4,
 "nbformat_minor": 4
}
