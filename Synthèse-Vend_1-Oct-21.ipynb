{
 "cells": [
  {
   "cell_type": "markdown",
   "id": "sufficient-gibraltar",
   "metadata": {},
   "source": [
    "<h3 style=\"color: purple\">Vendredi 1 octobre 21:  </h3>\n",
    "<h4 style=\"color: purple\">    1. => Le passage de paramètres  <br>\n",
    "                              2. => Variables globale et locale  <br>\n",
    "                              3. => Interaction Homme Machine  </h4>\n",
    "<h2 class='fa fa-cog' style=\"color: SeaGreen\">   => Retour sur: Le passage de paramètre</h2>"
   ]
  },
  {
   "cell_type": "code",
   "execution_count": 1,
   "id": "about-national",
   "metadata": {},
   "outputs": [
    {
     "name": "stdout",
     "output_type": "stream",
     "text": [
      "20\n"
     ]
    }
   ],
   "source": [
    "'''Le passage de paramètres'''\n",
    "#*******************************\n",
    "#*** Déclaration de fonction ***\n",
    "\n",
    "def min(a, b):\n",
    "    \"\"\" Retourne le minimum de a et b \"\"\"\n",
    "    if a < b:\n",
    "        return a\n",
    "    # Pas besoin de 'else': si a < b, la fonction\n",
    "    # a déjà cessé de s'exécuter à ce point.\n",
    "    return b\n",
    "\n",
    "#***************************\n",
    "#*** PROGRAMME PRINCIPAL ***\n",
    "\n",
    "print(min(30, 20))\n"
   ]
  },
  {
   "cell_type": "markdown",
   "id": "careful-outdoors",
   "metadata": {},
   "source": [
    "[A tester avec Python Tutor](https://pythontutor.com/live.html#mode=edit)"
   ]
  },
  {
   "cell_type": "markdown",
   "id": "executive-staff",
   "metadata": {},
   "source": [
    "<h2 class='fa fa-cog' style=\"color: SeaGreen\">   => Retour sur Les variables: locales et globales</h2>"
   ]
  },
  {
   "cell_type": "code",
   "execution_count": 2,
   "id": "religious-employee",
   "metadata": {},
   "outputs": [
    {
     "name": "stdout",
     "output_type": "stream",
     "text": [
      "10\n"
     ]
    }
   ],
   "source": [
    "'''Exemple 1'''\n",
    "a = 10      # variable globale\n",
    "\n",
    "def fonction():\n",
    "    a = 5   # variable locale: càd propre à la fonction \n",
    "\n",
    "fonction()\n",
    "print(a)    # référence la variable globale? local ? => affiche ???"
   ]
  },
  {
   "cell_type": "code",
   "execution_count": 3,
   "id": "adult-german",
   "metadata": {},
   "outputs": [
    {
     "name": "stdout",
     "output_type": "stream",
     "text": [
      "5\n",
      "10\n"
     ]
    }
   ],
   "source": [
    "''' Exemple 2'''\n",
    "\n",
    "a = 10      # variable globale\n",
    "\n",
    "def fonction(a):   # paramètre => variable locale\n",
    "    print(a)    # affiche la valeur du paramètre\n",
    "\n",
    "fonction(5)        # affiche ? => ?\n",
    "print(a)    # référence la variable globale/locale ? => affiche ?"
   ]
  },
  {
   "cell_type": "code",
   "execution_count": 4,
   "id": "sufficient-necessity",
   "metadata": {},
   "outputs": [
    {
     "name": "stdout",
     "output_type": "stream",
     "text": [
      "bonjour\n"
     ]
    }
   ],
   "source": [
    "'''Exemple 3'''\n",
    "\n",
    "message = \"bonjour\" # variable globale\n",
    "\n",
    "def fonction():\n",
    "    print(message)  # référence à la variable ?\n",
    "\n",
    "fonction()          # affiche ?"
   ]
  },
  {
   "cell_type": "code",
   "execution_count": 5,
   "id": "practical-large",
   "metadata": {},
   "outputs": [
    {
     "name": "stdout",
     "output_type": "stream",
     "text": [
      "bye\n",
      "bonjour\n"
     ]
    }
   ],
   "source": [
    "'''Exemple 4'''\n",
    "\n",
    "message = \"bonjour\"   # variable globale\n",
    "\n",
    "def fonction():\n",
    "    message = \"bye\"   # affectation qui crée une variable locale\n",
    "    print(message)    # référence à la variable ?\n",
    "\n",
    "fonction()            # affiche ?\n",
    "print(message)        # affiche ?"
   ]
  },
  {
   "cell_type": "code",
   "execution_count": 7,
   "id": "organizational-printing",
   "metadata": {},
   "outputs": [
    {
     "name": "stdout",
     "output_type": "stream",
     "text": [
      "bye\n",
      "bye\n"
     ]
    }
   ],
   "source": [
    "'''Exemple 5: => Effet de bord'''\n",
    "\n",
    "message = \"bonjour\"   # variable globale\n",
    "\n",
    "def fonction():\n",
    "    global message    # déclarer la référence à la variable globale\n",
    "    message = \"bye\"   # affectation de la variable globale\n",
    "    print(message)    # référence à la variable globale\n",
    "\n",
    "fonction()                   # affiche ?\n",
    "print(message)        # affiche ? => la valeur de message a changé"
   ]
  },
  {
   "cell_type": "code",
   "execution_count": 11,
   "id": "nutritional-madness",
   "metadata": {},
   "outputs": [
    {
     "name": "stdout",
     "output_type": "stream",
     "text": [
      "Oui ? Qui m'appelle ?\n"
     ]
    }
   ],
   "source": [
    "'''Exemple 6:'''\n",
    "\n",
    "trace = True\n",
    "\n",
    "def fonction():\n",
    "    # Tagada tsoin tsoin...\n",
    "    global trace\n",
    "    if trace:\n",
    "        print(\"Oui ? Qui m'appelle ?\")\n",
    "        trace = False\n",
    "\n",
    "#trace= False       \n",
    "fonction()\n"
   ]
  },
  {
   "cell_type": "markdown",
   "id": "fourth-resistance",
   "metadata": {},
   "source": [
    "<h1 style=\"color: navy\"> Les interactions homme machine : IHM (Chapitre 3) </h1>"
   ]
  },
  {
   "cell_type": "markdown",
   "id": "caroline-harvey",
   "metadata": {},
   "source": [
    "<h2 class='fa fa-cog' style=\"color: SeaGreen\">   => Interaction textuelle </h2>\n",
    "Interaction sous forme de texte dans la console Python:  \n",
    "![image_1](Console.png)\n",
    "<h2  style=\"color: SeaGreen\"> Afficher du texte </h2>"
   ]
  },
  {
   "cell_type": "code",
   "execution_count": null,
   "id": "instructional-patch",
   "metadata": {},
   "outputs": [],
   "source": [
    "a = 3\n",
    "b = 5.4\n",
    "print(\"La somme de\", a, \"et\", b, \"est égale à\", a+b)"
   ]
  },
  {
   "cell_type": "code",
   "execution_count": null,
   "id": "incomplete-convertible",
   "metadata": {},
   "outputs": [],
   "source": [
    "'''Formatage des chaînes'''\n",
    "a = 8\n",
    "b = 3\n",
    "# la méthode format:\n",
    "print(\"Le nombre {} élevé à la puissance {} est égal à {}\".format(a, b, a**b))\n",
    "# la f-string:\n",
    "print(f\"Le produit de {a} par {b} est égal à: {a*b}\")"
   ]
  },
  {
   "cell_type": "markdown",
   "id": "lesser-hacker",
   "metadata": {},
   "source": [
    "<h2  style=\"color: SeaGreen\"> Lire une saisie au clavier </h2>"
   ]
  },
  {
   "cell_type": "code",
   "execution_count": null,
   "id": "graphic-stationery",
   "metadata": {},
   "outputs": [],
   "source": [
    "# Saisir des valeurs données par l'utilisateur:\n",
    "a = input(\"Valeur de a ? \")\n",
    "b = input(\"Valeur de b ? \")\n",
    "print(f\"Resultat = {a+b}\")"
   ]
  },
  {
   "cell_type": "code",
   "execution_count": null,
   "id": "compatible-jones",
   "metadata": {},
   "outputs": [],
   "source": [
    "# A tester:\n",
    "a = input(\"Valeur de a ? \") # Toto\n",
    "b = input(\"Valeur de b ? \") # Titi\n",
    "print(f\"Resultat = {int(a)+int(b)}\")"
   ]
  },
  {
   "cell_type": "markdown",
   "id": "sublime-denial",
   "metadata": {},
   "source": [
    "<h2  style=\"color: SeaGreen\">Gérer les erreurs dans les entrées : l’instruction `try`</h2>"
   ]
  },
  {
   "cell_type": "code",
   "execution_count": null,
   "id": "hungry-brick",
   "metadata": {},
   "outputs": [],
   "source": [
    "try:\n",
    "    a = float( input(\"Valeur de a ? \") )\n",
    "    print(\"Resultat = \", a)\n",
    "except ValueError:\n",
    "    print(\"Oups, a n'est pas un nombre.\")"
   ]
  },
  {
   "cell_type": "code",
   "execution_count": null,
   "id": "owned-ability",
   "metadata": {},
   "outputs": [],
   "source": [
    "ok = False\n",
    "while not ok:       # tant que la saisie n'est pas correcte\n",
    "    try:\n",
    "        a = float( input(\"Valeur de a ? \") )\n",
    "        ok = True       # saisie correcte\n",
    "    except ValueError:  # saisie incorrecte\n",
    "        print(\"Erreur de saisie ! Entrer une valeur flottante :\")"
   ]
  },
  {
   "cell_type": "markdown",
   "id": "ongoing-moral",
   "metadata": {},
   "source": [
    "<h1 style=\"color: navy\">Interaction graphique</h1>"
   ]
  },
  {
   "cell_type": "code",
   "execution_count": null,
   "id": "unsigned-sheffield",
   "metadata": {},
   "outputs": [],
   "source": [
    "# Importer la bibliothèque nsi_ui\n",
    "from nsi_ui import *"
   ]
  },
  {
   "cell_type": "markdown",
   "id": "fabulous-renewal",
   "metadata": {},
   "source": [
    "<h2 class='fa fa-cog' style=\"color: SeaGreen\"> Fonction de rappel: </h1>"
   ]
  },
  {
   "cell_type": "code",
   "execution_count": null,
   "id": "collectible-department",
   "metadata": {},
   "outputs": [],
   "source": [
    "def coucou():\n",
    "    print(\"Coucou\")\n",
    "def repete(f):  # f est une fonction\n",
    "    f()         # on appelle f ...\n",
    "    f()         # ... deux fois\n",
    "\n",
    "repete(coucou)  # affiche \"Coucou\" deux foisa"
   ]
  },
  {
   "cell_type": "code",
   "execution_count": null,
   "id": "organic-disabled",
   "metadata": {},
   "outputs": [],
   "source": [
    "from nsi_turtle import * # pour importer la fonction clear\n",
    "\n",
    "button(\"Effacer\", clear) # appelle clear() lorsqu'on clique le bouton\n",
    "start_ui()"
   ]
  }
 ],
 "metadata": {
  "kernelspec": {
   "display_name": "Python 3 (ipykernel)",
   "language": "python",
   "name": "python3"
  },
  "language_info": {
   "codemirror_mode": {
    "name": "ipython",
    "version": 3
   },
   "file_extension": ".py",
   "mimetype": "text/x-python",
   "name": "python",
   "nbconvert_exporter": "python",
   "pygments_lexer": "ipython3",
   "version": "3.7.3"
  }
 },
 "nbformat": 4,
 "nbformat_minor": 5
}
