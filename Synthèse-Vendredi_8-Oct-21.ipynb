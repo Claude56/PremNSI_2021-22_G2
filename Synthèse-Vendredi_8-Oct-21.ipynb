{
 "cells": [
  {
   "cell_type": "markdown",
   "id": "sufficient-gibraltar",
   "metadata": {},
   "source": [
    "<h3 style=\"color: purple\">Vendredi 8 octobre 21:  </h3>\n",
    "<h2  style=\"color: SeaGreen\">    <br>\n",
    "    => Synthèse exercices chapitre 2  <br>"
   ]
  },
  {
   "cell_type": "markdown",
   "id": "fresh-saver",
   "metadata": {},
   "source": [
    "<h3  class='fa fa-cog' style=\"color: purple\"> Exercice 20: </h3> <br> \n",
    "    <i class=\"fa fa-arrow-right\" aria-hidden=\"true\"></i>\n",
    "Identification de la température. Il fait:  \n",
    "\n",
    "\n",
    "  très froid/ froid/ frais/ bon/ un peu chaud/ chaud/ très chaud"
   ]
  },
  {
   "cell_type": "code",
   "execution_count": null,
   "id": "about-national",
   "metadata": {},
   "outputs": [],
   "source": [
    "t = int( input('Saisir la température relevée : '))\n",
    "\n",
    "if t<-10:\n",
    "    print('Il fait très froid!')\n",
    "elif t<0:\n",
    "    print('Il fait froid')\n",
    "elif t<15:\n",
    "    print('Il fait frais')\n",
    "elif t<=25:\n",
    "    print('Il fait bon')\n",
    "elif t<30:\n",
    "    print('Il fait chaud')\n",
    "else:\n",
    "    print('Il fait très chaud!')"
   ]
  },
  {
   "cell_type": "markdown",
   "id": "closed-compatibility",
   "metadata": {},
   "source": [
    "<i class=\"fa fa-arrow-right\" aria-hidden=\"true\"></i> Dans l'exemple ci dessus, il faut être vigilant à l'ordre des tests et des conditions.\n",
    "\n",
    "<i class=\"fa fa-arrow-right\" aria-hidden=\"true\"></i> Ci dessous, le même exemple mais avec une fonction:  \n"
   ]
  },
  {
   "cell_type": "code",
   "execution_count": 5,
   "id": "familiar-album",
   "metadata": {},
   "outputs": [
    {
     "name": "stdout",
     "output_type": "stream",
     "text": [
      "Saisir la température relevée : 15\n",
      "Il fait ...  bon\n"
     ]
    }
   ],
   "source": [
    "''' Variante exercice 20: => Avec une fonction'''\n",
    "#***  DECLARATION FONCTION:   ***\n",
    "    \n",
    "def identifTemperature(temp):\n",
    "    \"Identifie la température => Renvoi un message (type:string) adapté\"\n",
    "    if temp<-10:\n",
    "        return 'très froid!'\n",
    "    elif temp<0:\n",
    "        return 'froid'\n",
    "    elif temp<15:\n",
    "        return 'frais'\n",
    "    elif temp<=25:\n",
    "        return 'bon'\n",
    "    elif temp<30:\n",
    "        return 'chaud'\n",
    "    else:\n",
    "        return 'très chaud!'\n",
    "\n",
    "#*** LE PROGRAMME PRINCIPAL:  ***\n",
    "    \n",
    "t = int( input('Saisir la température relevée : '))        \n",
    "print('Il fait ... ',identifTemperature(t))"
   ]
  },
  {
   "cell_type": "markdown",
   "id": "graphic-bouquet",
   "metadata": {},
   "source": [
    "<i class=\"fa fa-arrow-right\" aria-hidden=\"true\"></i> A propos de la documentation des fonctions:  \n",
    "Python implémente une méthode spéciale '.__doc__' permettant d'extraire la 'docstring' d'une fonction:  \n",
    "=> fonction.__doc__"
   ]
  },
  {
   "cell_type": "code",
   "execution_count": 6,
   "id": "flexible-geology",
   "metadata": {},
   "outputs": [
    {
     "name": "stdout",
     "output_type": "stream",
     "text": [
      "Identifie la température => Renvoi un message (type:string) adapté\n"
     ]
    }
   ],
   "source": [
    "'''Exemple: '''\n",
    "print(identifTemperature.__doc__)"
   ]
  },
  {
   "cell_type": "markdown",
   "id": "breathing-scheduling",
   "metadata": {},
   "source": [
    "<h3  class='fa fa-cog' style=\"color: purple\"> Exercices 21;22: </h3>\n",
    "\n",
    "<i class=\"fa fa-arrow-right\" aria-hidden=\"true\" style=\"color: darkblue\">   ANNÉE BISSEXTILE:</i>   \n",
    "Rappel: Une année est bissextile si elle est divisible par 4.  \n",
    "Les siècles ne sont pas bissextiles, sauf les multiples de 400."
   ]
  },
  {
   "cell_type": "code",
   "execution_count": 7,
   "id": "assured-velvet",
   "metadata": {},
   "outputs": [
    {
     "name": "stdout",
     "output_type": "stream",
     "text": [
      "Saisir une année : 2024\n",
      "L'année 2024 est-elle bissextile ? Oui\n"
     ]
    }
   ],
   "source": [
    "# Version 1: a = Année bissextile ?\n",
    "\n",
    "a = int( input('Saisir une année : '))\n",
    "print(f\"L'année {a} est-elle bissextile ?\", end=' ')\n",
    "if (a%4==0 and a%100!=0) or a%400==0:\n",
    "    print('Oui')\n",
    "else:\n",
    "    print('Non')"
   ]
  },
  {
   "cell_type": "markdown",
   "id": "raised-fitting",
   "metadata": {},
   "source": [
    "<i class=\"fa fa-arrow-right\" aria-hidden=\"true\" style=\"color: darkblue\"> Version 2: Avec le nb de jours du mois  </i> <br> De janvier à juillet, les mois impairs ont 31 jours, les autres 30.  \n",
    "De août à décembre c'est l'inverse.  \n",
    "Le mois de février a 28 jours, sauf les années bissextiles où il a 29 jours.\n",
    "  "
   ]
  },
  {
   "cell_type": "code",
   "execution_count": null,
   "id": "simplified-times",
   "metadata": {},
   "outputs": [],
   "source": [
    "# Version 2: Avec le nb de jours du mois => Utilisation de la structure: IF / ELIF / ELSE\n",
    "\n",
    "a = int( input('Saisir une année : '))\n",
    "bissextile = False\n",
    "if (a%4==0 and a%100!=0) or a%400==0:\n",
    "    bissextile = True\n",
    "print(f\"L'année {a} est-elle bissextile ? {bissextile}\")\n",
    "    \n",
    "m = int( input('Saisir un numéro de mois : '))\n",
    "if m==2 and bissextile:\n",
    "    print(f\"Le nombre de jour du mois {m} de l'année {a} est: 29\")\n",
    "elif m==2 and not bissextile:\n",
    "    print(f\"Le nombre de jour du mois {m} de l'année {a} est: 28\")\n",
    "elif (m<=7 and m%2==1) or (m>7 and m%2==0):\n",
    "    print(f\"Le nombre de jour du mois {m} de l'année {a} est: 31\")\n",
    "elif (m<=7 and m%2==0) or (m>7 and m%2==1):    \n",
    "    print(f\"Le nombre de jour du mois {m} de l'année {a} est: 30\")\n",
    "else:\n",
    "    print(\"Le numéro du mois n'est pas reconnu\")"
   ]
  },
  {
   "cell_type": "markdown",
   "id": "allied-green",
   "metadata": {},
   "source": [
    "<i class=\"fa fa-arrow-right\" aria-hidden=\"true\" style=\"color: darkblue\"> Version 2: Avec le nb de jours du mois  </i>   \n",
    "Variante en utilisant une variable *jours*:  "
   ]
  },
  {
   "cell_type": "code",
   "execution_count": null,
   "id": "biblical-avenue",
   "metadata": {},
   "outputs": [],
   "source": [
    "# Version 2: Avec le nb de jours du mois => Variante 1\n",
    "\n",
    "a = int( input('Saisir une année : '))\n",
    "bissextile = False\n",
    "if (a%4==0 and a%100!=0) or a%400==0:\n",
    "    bissextile = True\n",
    "print(f\"L'année {a} est-elle bissextile ? {bissextile}\")\n",
    "\n",
    "m = int( input('Saisir un numéro de mois : '))\n",
    "jours = 31\n",
    "if m < 7 and m % 2 == 0 or m > 7 and m % 2 == 1:\n",
    "    jours = 30\n",
    "if m == 2:\n",
    "    jours = 28\n",
    "    if bissextile:\n",
    "        jours = 29\n",
    "\n",
    "print(f\"Le nombre de jour du mois {m} de l'année {a} est: {jours}\")"
   ]
  },
  {
   "cell_type": "markdown",
   "id": "becoming-office",
   "metadata": {},
   "source": [
    "<i class=\"fa fa-arrow-right\" aria-hidden=\"true\" style=\"color: darkblue\"> Version 2: Avec le nb de jours du mois  </i>   \n",
    "Une autre variante: => pour illustrer l'utilisation de l'opérateur ternaire (détail de syntaxe!) "
   ]
  },
  {
   "cell_type": "code",
   "execution_count": null,
   "id": "undefined-greece",
   "metadata": {},
   "outputs": [],
   "source": [
    "# Version 2: Avec le nb de jours du mois => Variante 2\n",
    "\n",
    "a = int( input('Saisir une année : '))\n",
    "bissextile = False\n",
    "if (a%4==0 and a%100!=0) or a%400==0:\n",
    "    bissextile = True\n",
    "print(f\"L'année {a} est-elle bissextile ? {bissextile}\")\n",
    "\n",
    "m = int( input('Saisir un numéro de mois : '))\n",
    "jours = 31\n",
    "if m < 7 and m % 2 == 0 or m > 7 and m % 2 == 1:\n",
    "    jours = 30\n",
    "if m == 2:\n",
    "    jours = 29 if bissextile else 28 # Exemple avec opérateur ternaire\n",
    "    #jours = (28, 29) [bissextile] # Autre forme: tjs avec ternaire\n",
    "\n",
    "print(f\"Le nombre de jour du mois {m} de l'année {a} est: {jours}\")"
   ]
  },
  {
   "cell_type": "markdown",
   "id": "executive-staff",
   "metadata": {},
   "source": [
    "<i class=\"fa fa-arrow-right\" aria-hidden=\"true\" style=\"color: darkblue\">   ANNÉE BISSEXTILE:</i>   \n",
    "    <i  style=\"color: darkblue; font-weight: bold\">      => Version avec fonctions:</i>"
   ]
  },
  {
   "cell_type": "code",
   "execution_count": null,
   "id": "religious-employee",
   "metadata": {},
   "outputs": [],
   "source": [
    "#****  DECLARATION DES FONCTIONS LOCALES:  ****\n",
    "\n",
    "def estBissextile (annee):\n",
    "    \" Retourne True si l'année est bissextile \"\n",
    "    if (annee %4 ==0 and annee %100 !=0) or annee %400 ==0:\n",
    "        return True\n",
    "    return False\n",
    "\n",
    "def nbJourDuMois (mois, annee):\n",
    "    \"Retourne le nb de jours du mois de l'année\"\n",
    "    jours = 31\n",
    "    if mois < 7 and mois % 2 == 0 or mois > 7 and mois % 2 == 1:\n",
    "        jours = 30\n",
    "    if mois == 2:\n",
    "        jours = 28\n",
    "        if bissextile:\n",
    "            jours = 29\n",
    "    return jours\n",
    "\n",
    "\n",
    "#****  PROGRAMME PRINCIPAL:  ****\n",
    "\n",
    "a = int( input('Saisir une année : '))\n",
    "bissextile = estBissextile(a) # Appel de fonction avec paramètre et réception de la valeur de retour\n",
    "print(f\"L'année {a} est-elle bissextile ? {bissextile}\") \n",
    "m = int( input('Saisir un numéro de mois : '))\n",
    "print(f\"Le nombre de jour du mois {m} de l'année {a} est: {nbJourDuMois(m, a)}\") #un autre exemple d'appel"
   ]
  },
  {
   "cell_type": "markdown",
   "id": "parliamentary-graph",
   "metadata": {},
   "source": [
    "<i class=\"fa fa-arrow-right\" aria-hidden=\"true\" style=\"color: darkblue\">   ANNÉE BISSEXTILE:</i>   \n",
    "    <i  style=\"color: darkblue; font-weight: bold\">      => Version avec une fonction pour compter le nombre de jours depuis le début de l'année:</i>"
   ]
  },
  {
   "cell_type": "code",
   "execution_count": null,
   "id": "adult-german",
   "metadata": {},
   "outputs": [],
   "source": [
    "#***  DECLARATION FONCTIONS LOCALES:  ***\n",
    "\n",
    "def estBissextile (annee):\n",
    "    \" Retourne True si l'année est bissextile \"\n",
    "    if (annee %4 ==0 and annee %100 !=0) or annee %400 ==0:\n",
    "        return True\n",
    "    return False\n",
    "\n",
    "def nbJourDuMois (mois, annee):\n",
    "    \"Retourne le nb de jours du mois de l'année\"\n",
    "    jours = 31\n",
    "    if mois < 7 and mois % 2 == 0 or mois > 7 and mois % 2 == 1:\n",
    "        jours = 30\n",
    "    if mois == 2:\n",
    "        jours = 28\n",
    "        if bissextile:\n",
    "            jours = 29\n",
    "    return jours\n",
    "\n",
    "def nbJours (jour, mois, annee):\n",
    "    \"Retourne le nb de jours depuis le début de l'année\"\n",
    "    nbJrs = jour\n",
    "    for i in range (mois-1):\n",
    "        nbJrs = nbJrs + nbJourDuMois(i+1, annee)\n",
    "        #print(i+1,\"=>\",nbJourDuMois(i+1, annee)) # Instrumentation\n",
    "    return nbJrs\n",
    "\n",
    "\n",
    "#***  PROGRAMME PRINCIPAL:  ***\n",
    "\n",
    "a = int( input('Saisir une année : '))\n",
    "bissextile = estBissextile(a)\n",
    "print(f\"L'année {a} est bissextile : {bissextile}\") \n",
    "m = int( input('Saisir un numéro de mois : '))\n",
    "j = int( input('Saisir le numéro du jour : '))\n",
    "print(f\"Le nombre de jour depuis début de l'année est: {nbJours(j, m, a)}\")"
   ]
  },
  {
   "cell_type": "markdown",
   "id": "3affee9f",
   "metadata": {},
   "source": [
    "**Note à propos de la boucle for et de ses paramètres optionnels:  \n",
    "```for i in range(X, Y, Z):```**  \n",
    "X => borne de début (=0 par défaut);  \n",
    "Y => borne de fin (indispensable);  \n",
    "Z => valeur de l'incrément (à préciser si différent de 1)."
   ]
  },
  {
   "cell_type": "markdown",
   "id": "robust-tiffany",
   "metadata": {},
   "source": [
    "<i class=\"fa fa-arrow-right\" aria-hidden=\"true\" style=\"color: darkblue\">   ANNÉE BISSEXTILE:</i>   \n",
    "    <i  style=\"color: darkblue; font-weight: bold\">      => Version avec une fonction pour identifier les jours de la semaine:</i>"
   ]
  },
  {
   "cell_type": "code",
   "execution_count": null,
   "id": "sufficient-necessity",
   "metadata": {},
   "outputs": [],
   "source": [
    "#******  DECLARATION DES FONCTIONS LOCALES:  ******\n",
    "\n",
    "def estBissextile (annee):\n",
    "    \" Retourne True si l'année est bissextile \"\n",
    "    if (annee %4 ==0 and annee %100 !=0) or annee %400 ==0:\n",
    "        return True\n",
    "    return False\n",
    "\n",
    "def nbJourDuMois (mois, annee):\n",
    "    \"Retourne le nb de jours du mois de l'année\"\n",
    "    jours = 31\n",
    "    if mois < 7 and mois % 2 == 0 or mois > 7 and mois % 2 == 1:\n",
    "        jours = 30\n",
    "    if mois == 2:\n",
    "        jours = 28\n",
    "        if bissextile:\n",
    "            jours = 29\n",
    "    return jours\n",
    "\n",
    "def nbJours (jour, mois, annee):\n",
    "    \"Retourne le nb de jours depuis le début de l'année\"\n",
    "    nbJrs = jour\n",
    "    for i in range (mois -1):\n",
    "        nbJrs = nbJrs + nbJourDuMois(i+1, annee)\n",
    "        #print(i+1,\"=>\",nbJourDuMois(i+1, annee))\n",
    "    return nbJrs\n",
    "\n",
    "def jourSemaine(jour, mois, annee, jour0):\n",
    "    \"\"\" Retourne le jour de la semaine de la date donnée.\n",
    "    Jour0 => est le code du premier jour de l'année \"\"\"\n",
    "    return (jour0 + nbJours(jour, mois, annee) -1) % 7\n",
    "\n",
    "def nomDuJour (jour):\n",
    "    \" Renvoi le nom du jour passé en appel\"\n",
    "    if jour ==0:\n",
    "        return 'Lundi'\n",
    "    elif jour ==1:\n",
    "        return 'Mardi'\n",
    "    elif jour ==2:\n",
    "        return 'Mercredi'\n",
    "    elif jour ==3:\n",
    "        return 'Jeudi'\n",
    "    elif jour ==4:\n",
    "        return 'Vendredi'\n",
    "    elif jour ==5:\n",
    "        return 'Samedi'\n",
    "    else:\n",
    "        return 'Dimanche'\n",
    "\n",
    "\n",
    "#******       PROGRAMME PRINCIPAL:       ******\n",
    "\n",
    "# Test sur le numéro du dernier jour de l'année 2021:\n",
    "j, m , a = 31, 12, 2021  # Affectation de trois variables (n-uplet) \n",
    "bissextile = estBissextile(a)\n",
    "print(f\"Le dernier jour de l'année 2021 est: {jourSemaine(j, m, a, 4)}\")\n",
    "\n",
    "# Vérifions que le 14 juillet 2022 sera un jeudi:\n",
    "j, m , a = 14, 7, 2022\n",
    "#bissextile = estBissextile(a)\n",
    "j0 = jourSemaine(31, 12, 2021, 4) +1\n",
    "jour = jourSemaine(j, m, a, j0)\n",
    "print(f\"Le 14 juillet 2022 est: {nomDuJour(jour)}\")"
   ]
  },
  {
   "cell_type": "code",
   "execution_count": null,
   "id": "3b349d62",
   "metadata": {},
   "outputs": [],
   "source": [
    "print(jourSemaine.__doc__)"
   ]
  },
  {
   "cell_type": "markdown",
   "id": "46e958e7",
   "metadata": {},
   "source": [
    "<i class=\"fa fa-arrow-right\" aria-hidden=\"true\" style=\"color: darkblue\">   ASCII Art:</i>   \n",
    "    <i  style=\"color: darkblue; font-weight: bold\">      - Le Carré:</i>"
   ]
  },
  {
   "cell_type": "code",
   "execution_count": null,
   "id": "fc4e0b24",
   "metadata": {},
   "outputs": [],
   "source": [
    "def square(taille):\n",
    "    \"\"\" Affiche un carré \"\"\"\n",
    "    top='X '*taille\n",
    "    ligne='X '+' '*2*(taille-2)+'X'\n",
    "    for i in range(taille):\n",
    "        if i==0 or i==taille-1:\n",
    "            print(top)\n",
    "        else:\n",
    "            print(ligne)\n",
    "            \n",
    "dimension = int(input('Entrez une taille : '))\n",
    "square(dimension)"
   ]
  },
  {
   "cell_type": "markdown",
   "id": "5149514e",
   "metadata": {},
   "source": [
    "<i class=\"fa fa-arrow-right\" aria-hidden=\"true\" style=\"color: darkblue\">   ASCII Art:</i>   \n",
    "    <i  style=\"color: darkblue; font-weight: bold\">      - Le sapin de Noël:</i>"
   ]
  }
 ],
 "metadata": {
  "kernelspec": {
   "display_name": "Python 3 (ipykernel)",
   "language": "python",
   "name": "python3"
  },
  "language_info": {
   "codemirror_mode": {
    "name": "ipython",
    "version": 3
   },
   "file_extension": ".py",
   "mimetype": "text/x-python",
   "name": "python",
   "nbconvert_exporter": "python",
   "pygments_lexer": "ipython3",
   "version": "3.7.3"
  }
 },
 "nbformat": 4,
 "nbformat_minor": 5
}
