{
 "cells": [
  {
   "cell_type": "markdown",
   "id": "sufficient-gibraltar",
   "metadata": {},
   "source": [
    "<h3 style=\"color: purple\">Vendredi 8 octobre 21:  </h3>\n",
    "<h2  style=\"color: SeaGreen\">    <br>\n",
    "    => Synthèse exercices chapitre 2  <br>"
   ]
  },
  {
   "cell_type": "markdown",
   "id": "fresh-saver",
   "metadata": {},
   "source": [
    "<h3  class='fa fa-cog' style=\"color: purple\"> Exercice 20: </h3> <br> \n",
    "    <i class=\"fa fa-arrow-right\" aria-hidden=\"true\"></i>\n",
    "Identification de la température. Il fait:  \n",
    "\n",
    "\n",
    "  très froid/ froid/ frais/ bon/ un peu chaud/ chaud/ très chaud"
   ]
  },
  {
   "cell_type": "code",
   "execution_count": null,
   "id": "about-national",
   "metadata": {},
   "outputs": [],
   "source": [
    "t = int( input('Saisir la température relevée : '))\n",
    "\n",
    "if t<-10:\n",
    "    print('Il fait très froid!')\n",
    "elif t<0:\n",
    "    print('Il fait froid')\n",
    "elif t<15:\n",
    "    print('Il fait frais')\n",
    "elif t<=25:\n",
    "    print('Il fait bon')\n",
    "elif t<30:\n",
    "    print('Il fait chaud')\n",
    "else:\n",
    "    print('Il fait très chaud!')"
   ]
  },
  {
   "cell_type": "markdown",
   "id": "closed-compatibility",
   "metadata": {},
   "source": [
    "<i class=\"fa fa-arrow-right\" aria-hidden=\"true\"></i> Dans l'exemple ci dessus, il faut être vigilant à l'ordre des tests et des conditions.\n",
    "\n",
    "<i class=\"fa fa-arrow-right\" aria-hidden=\"true\"></i> Ci dessous, le même exemple mais avec une fonction:  \n"
   ]
  },
  {
   "cell_type": "code",
   "execution_count": 5,
   "id": "familiar-album",
   "metadata": {},
   "outputs": [
    {
     "name": "stdout",
     "output_type": "stream",
     "text": [
      "Saisir la température relevée : 15\n",
      "Il fait ...  bon\n"
     ]
    }
   ],
   "source": [
    "''' Variante exercice 20: => Avec une fonction'''\n",
    "#***  DECLARATION FONCTION:   ***\n",
    "    \n",
    "def identifTemperature(temp):\n",
    "    \"Identifie la température => Renvoi un message (type:string) adapté\"\n",
    "    if temp<-10:\n",
    "        return 'très froid!'\n",
    "    elif temp<0:\n",
    "        return 'froid'\n",
    "    elif temp<15:\n",
    "        return 'frais'\n",
    "    elif temp<=25:\n",
    "        return 'bon'\n",
    "    elif temp<30:\n",
    "        return 'chaud'\n",
    "    else:\n",
    "        return 'très chaud!'\n",
    "\n",
    "#*** LE PROGRAMME PRINCIPAL:  ***\n",
    "    \n",
    "t = int( input('Saisir la température relevée : '))        \n",
    "print('Il fait ... ',identifTemperature(t))"
   ]
  },
  {
   "cell_type": "markdown",
   "id": "graphic-bouquet",
   "metadata": {},
   "source": [
    "<i class=\"fa fa-arrow-right\" aria-hidden=\"true\"></i> A propos de la documentation des fonctions:  \n",
    "Python implémente une méthode spéciale '.__doc__' permettant d'extraire la 'docstring' d'une fonction:  \n",
    "=> fonction.__doc__"
   ]
  },
  {
   "cell_type": "code",
   "execution_count": 6,
   "id": "flexible-geology",
   "metadata": {},
   "outputs": [
    {
     "name": "stdout",
     "output_type": "stream",
     "text": [
      "Identifie la température => Renvoi un message (type:string) adapté\n"
     ]
    }
   ],
   "source": [
    "'''Exemple: '''\n",
    "print(identifTemperature.__doc__)"
   ]
  },
  {
   "cell_type": "code",
   "execution_count": null,
   "id": "3b349d62",
   "metadata": {},
   "outputs": [],
   "source": [
    "print(jourSemaine.__doc__)"
   ]
  },
  {
   "cell_type": "markdown",
   "id": "46e958e7",
   "metadata": {},
   "source": [
    "<i class=\"fa fa-arrow-right\" aria-hidden=\"true\" style=\"color: darkblue\">   ASCII Art:</i>   \n",
    "    <i  style=\"color: darkblue; font-weight: bold\">      - Le Carré:</i>"
   ]
  },
  {
   "cell_type": "code",
   "execution_count": null,
   "id": "fc4e0b24",
   "metadata": {},
   "outputs": [],
   "source": [
    "def square(taille):\n",
    "    \"\"\" Affiche un carré \"\"\"\n",
    "    top='X '*taille\n",
    "    ligne='X '+' '*2*(taille-2)+'X'\n",
    "    for i in range(taille):\n",
    "        if i==0 or i==taille-1:\n",
    "            print(top)\n",
    "        else:\n",
    "            print(ligne)\n",
    "            \n",
    "dimension = int(input('Entrez une taille : '))\n",
    "square(dimension)"
   ]
  },
  {
   "cell_type": "markdown",
   "id": "5149514e",
   "metadata": {},
   "source": [
    "<i class=\"fa fa-arrow-right\" aria-hidden=\"true\" style=\"color: darkblue\">   ASCII Art:</i>   \n",
    "    <i  style=\"color: darkblue; font-weight: bold\">      - Le sapin de Noël:</i>"
   ]
  },
  {
   "cell_type": "code",
   "execution_count": null,
   "id": "f04d20cb",
   "metadata": {},
   "outputs": [],
   "source": [
    "''' Sapin de Noël '''\n",
    "\n",
    "from random import random\n",
    "\n",
    "#*****      Déclaration fonctions     *****#\n",
    "\n",
    "def dessineSapin(ramure,largTronc, hautTronc):\n",
    "    '''Dessine la silhouette du sapin: Param�tre = ramure,largTronc, hautTronc'''\n",
    "    largRamure = 2*ramure//3\n",
    "    star(largRamure) # Mise en place �toile\n",
    "    # => Pour dessiner la ramure du sapin\n",
    "    print(' '*(largRamure)+'^')\n",
    "    for i in range(largRamure,0,-1):\n",
    "        # => La ramure seule:\n",
    "        #print(' '*(i-1)+'/ '+' '*(((largRamure-i)*2))+'\\\\')\n",
    "        # => Ramure + feuillage:\n",
    "        print(' '*(i-1)+'/\"'+(\"'\"+'\"')*((largRamure-i))+'\\\\')\n",
    "    dessineTronc(largRamure, largTronc, hautTronc)\n",
    "    \n",
    "def dessineTronc(largRamure, largTronc, hautTronc):\n",
    "    ''' Dessiner le tronc: Param�tres = largRamure, largTronc; hautTronc'''\n",
    "    for i in range (hautTronc):\n",
    "        rayonTronc = largTronc//2\n",
    "        if largTronc%2==0:\n",
    "            print(' '*(largRamure-(rayonTronc))+'|'*(rayonTronc)+' '+'|'*(rayonTronc))\n",
    "        else:\n",
    "            print(' '*(largRamure-(rayonTronc))+'|'*(2*(rayonTronc)+1))\n",
    "     \n",
    "\n",
    "def star (largRamure):\n",
    "    '''Dessine l'�toile du berger'''\n",
    "    print('\\n'+' '*(largRamure)+'*')\n",
    "    \n",
    "def decoreSapin(ramure,largTronc, hautTronc):\n",
    "    '''Dessine la silhouette du sapin: Param�tre = ramure, largTronc, hautTronc'''\n",
    "    largRamure = 2*ramure//3\n",
    "    star(largRamure) # Mise en place �toile\n",
    "    # => Pour dessiner la ramure du sapin\n",
    "    print(' '*(largRamure)+'^')\n",
    "    for i in range(largRamure,0,-1):\n",
    "        ligne=' '*(i-1)+'/'\n",
    "        j=1\n",
    "        while j<(largRamure+1-i)*2:\n",
    "            if random()<0.2:\n",
    "                ligne +='O'\n",
    "            elif j%2==0:\n",
    "                ligne +=\"'\"\n",
    "            else:\n",
    "                ligne +='\"'\n",
    "            j=j+1\n",
    "        ligne+='\\\\'\n",
    "        print(ligne)\n",
    "    dessineTronc(largRamure, largTronc, hautTronc)\n",
    "\n",
    "\n",
    "#*******      PRG PRINCIPAL    *******#\n",
    "\n",
    "\n",
    "ramure=int(input('Entrez la hauteur de la ramure du sapin : '))\n",
    "largTronc=int(input('Entrez la taille du tronc: => largeur : '))\n",
    "hautTronc=int(input('Entrez la taille du tronc: => hauteur : '))\n",
    "dessineSapin(ramure, largTronc, hautTronc)\n",
    "decoreSapin(ramure, largTronc, hautTronc)"
   ]
  }
 ],
 "metadata": {
  "kernelspec": {
   "display_name": "Python 3 (ipykernel)",
   "language": "python",
   "name": "python3"
  },
  "language_info": {
   "codemirror_mode": {
    "name": "ipython",
    "version": 3
   },
   "file_extension": ".py",
   "mimetype": "text/x-python",
   "name": "python",
   "nbconvert_exporter": "python",
   "pygments_lexer": "ipython3",
   "version": "3.7.3"
  }
 },
 "nbformat": 4,
 "nbformat_minor": 5
}
